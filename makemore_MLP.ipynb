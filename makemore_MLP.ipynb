{
  "nbformat": 4,
  "nbformat_minor": 0,
  "metadata": {
    "colab": {
      "provenance": [],
      "authorship_tag": "ABX9TyM7RSd5hBKJGYiHJleK6rxY",
      "include_colab_link": true
    },
    "kernelspec": {
      "name": "python3",
      "display_name": "Python 3"
    },
    "language_info": {
      "name": "python"
    }
  },
  "cells": [
    {
      "cell_type": "markdown",
      "metadata": {
        "id": "view-in-github",
        "colab_type": "text"
      },
      "source": [
        "<a href=\"https://colab.research.google.com/github/IshaanKulkarni/makemore/blob/master/makemore_MLP.ipynb\" target=\"_parent\"><img src=\"https://colab.research.google.com/assets/colab-badge.svg\" alt=\"Open In Colab\"/></a>"
      ]
    },
    {
      "cell_type": "code",
      "execution_count": 2,
      "metadata": {
        "id": "2_3X2ScdwlTF"
      },
      "outputs": [],
      "source": [
        "import torch\n",
        "import torch.nn.functional as f\n",
        "import matplotlib.pyplot as plt\n",
        "%matplotlib inline"
      ]
    },
    {
      "cell_type": "code",
      "source": [
        "from google.colab import files\n",
        "uploaded = files.upload()\n",
        "words=open('names.txt','r').read().splitlines()\n",
        "words[:5]"
      ],
      "metadata": {
        "colab": {
          "base_uri": "https://localhost:8080/",
          "height": 90
        },
        "id": "fWf0PbUrxBUr",
        "outputId": "67cd047d-f0e1-4912-fe4e-46399bced6cf"
      },
      "execution_count": 3,
      "outputs": [
        {
          "output_type": "display_data",
          "data": {
            "text/plain": [
              "<IPython.core.display.HTML object>"
            ],
            "text/html": [
              "\n",
              "     <input type=\"file\" id=\"files-774e8ace-436b-488e-8318-8102cfa79f15\" name=\"files[]\" multiple disabled\n",
              "        style=\"border:none\" />\n",
              "     <output id=\"result-774e8ace-436b-488e-8318-8102cfa79f15\">\n",
              "      Upload widget is only available when the cell has been executed in the\n",
              "      current browser session. Please rerun this cell to enable.\n",
              "      </output>\n",
              "      <script>// Copyright 2017 Google LLC\n",
              "//\n",
              "// Licensed under the Apache License, Version 2.0 (the \"License\");\n",
              "// you may not use this file except in compliance with the License.\n",
              "// You may obtain a copy of the License at\n",
              "//\n",
              "//      http://www.apache.org/licenses/LICENSE-2.0\n",
              "//\n",
              "// Unless required by applicable law or agreed to in writing, software\n",
              "// distributed under the License is distributed on an \"AS IS\" BASIS,\n",
              "// WITHOUT WARRANTIES OR CONDITIONS OF ANY KIND, either express or implied.\n",
              "// See the License for the specific language governing permissions and\n",
              "// limitations under the License.\n",
              "\n",
              "/**\n",
              " * @fileoverview Helpers for google.colab Python module.\n",
              " */\n",
              "(function(scope) {\n",
              "function span(text, styleAttributes = {}) {\n",
              "  const element = document.createElement('span');\n",
              "  element.textContent = text;\n",
              "  for (const key of Object.keys(styleAttributes)) {\n",
              "    element.style[key] = styleAttributes[key];\n",
              "  }\n",
              "  return element;\n",
              "}\n",
              "\n",
              "// Max number of bytes which will be uploaded at a time.\n",
              "const MAX_PAYLOAD_SIZE = 100 * 1024;\n",
              "\n",
              "function _uploadFiles(inputId, outputId) {\n",
              "  const steps = uploadFilesStep(inputId, outputId);\n",
              "  const outputElement = document.getElementById(outputId);\n",
              "  // Cache steps on the outputElement to make it available for the next call\n",
              "  // to uploadFilesContinue from Python.\n",
              "  outputElement.steps = steps;\n",
              "\n",
              "  return _uploadFilesContinue(outputId);\n",
              "}\n",
              "\n",
              "// This is roughly an async generator (not supported in the browser yet),\n",
              "// where there are multiple asynchronous steps and the Python side is going\n",
              "// to poll for completion of each step.\n",
              "// This uses a Promise to block the python side on completion of each step,\n",
              "// then passes the result of the previous step as the input to the next step.\n",
              "function _uploadFilesContinue(outputId) {\n",
              "  const outputElement = document.getElementById(outputId);\n",
              "  const steps = outputElement.steps;\n",
              "\n",
              "  const next = steps.next(outputElement.lastPromiseValue);\n",
              "  return Promise.resolve(next.value.promise).then((value) => {\n",
              "    // Cache the last promise value to make it available to the next\n",
              "    // step of the generator.\n",
              "    outputElement.lastPromiseValue = value;\n",
              "    return next.value.response;\n",
              "  });\n",
              "}\n",
              "\n",
              "/**\n",
              " * Generator function which is called between each async step of the upload\n",
              " * process.\n",
              " * @param {string} inputId Element ID of the input file picker element.\n",
              " * @param {string} outputId Element ID of the output display.\n",
              " * @return {!Iterable<!Object>} Iterable of next steps.\n",
              " */\n",
              "function* uploadFilesStep(inputId, outputId) {\n",
              "  const inputElement = document.getElementById(inputId);\n",
              "  inputElement.disabled = false;\n",
              "\n",
              "  const outputElement = document.getElementById(outputId);\n",
              "  outputElement.innerHTML = '';\n",
              "\n",
              "  const pickedPromise = new Promise((resolve) => {\n",
              "    inputElement.addEventListener('change', (e) => {\n",
              "      resolve(e.target.files);\n",
              "    });\n",
              "  });\n",
              "\n",
              "  const cancel = document.createElement('button');\n",
              "  inputElement.parentElement.appendChild(cancel);\n",
              "  cancel.textContent = 'Cancel upload';\n",
              "  const cancelPromise = new Promise((resolve) => {\n",
              "    cancel.onclick = () => {\n",
              "      resolve(null);\n",
              "    };\n",
              "  });\n",
              "\n",
              "  // Wait for the user to pick the files.\n",
              "  const files = yield {\n",
              "    promise: Promise.race([pickedPromise, cancelPromise]),\n",
              "    response: {\n",
              "      action: 'starting',\n",
              "    }\n",
              "  };\n",
              "\n",
              "  cancel.remove();\n",
              "\n",
              "  // Disable the input element since further picks are not allowed.\n",
              "  inputElement.disabled = true;\n",
              "\n",
              "  if (!files) {\n",
              "    return {\n",
              "      response: {\n",
              "        action: 'complete',\n",
              "      }\n",
              "    };\n",
              "  }\n",
              "\n",
              "  for (const file of files) {\n",
              "    const li = document.createElement('li');\n",
              "    li.append(span(file.name, {fontWeight: 'bold'}));\n",
              "    li.append(span(\n",
              "        `(${file.type || 'n/a'}) - ${file.size} bytes, ` +\n",
              "        `last modified: ${\n",
              "            file.lastModifiedDate ? file.lastModifiedDate.toLocaleDateString() :\n",
              "                                    'n/a'} - `));\n",
              "    const percent = span('0% done');\n",
              "    li.appendChild(percent);\n",
              "\n",
              "    outputElement.appendChild(li);\n",
              "\n",
              "    const fileDataPromise = new Promise((resolve) => {\n",
              "      const reader = new FileReader();\n",
              "      reader.onload = (e) => {\n",
              "        resolve(e.target.result);\n",
              "      };\n",
              "      reader.readAsArrayBuffer(file);\n",
              "    });\n",
              "    // Wait for the data to be ready.\n",
              "    let fileData = yield {\n",
              "      promise: fileDataPromise,\n",
              "      response: {\n",
              "        action: 'continue',\n",
              "      }\n",
              "    };\n",
              "\n",
              "    // Use a chunked sending to avoid message size limits. See b/62115660.\n",
              "    let position = 0;\n",
              "    do {\n",
              "      const length = Math.min(fileData.byteLength - position, MAX_PAYLOAD_SIZE);\n",
              "      const chunk = new Uint8Array(fileData, position, length);\n",
              "      position += length;\n",
              "\n",
              "      const base64 = btoa(String.fromCharCode.apply(null, chunk));\n",
              "      yield {\n",
              "        response: {\n",
              "          action: 'append',\n",
              "          file: file.name,\n",
              "          data: base64,\n",
              "        },\n",
              "      };\n",
              "\n",
              "      let percentDone = fileData.byteLength === 0 ?\n",
              "          100 :\n",
              "          Math.round((position / fileData.byteLength) * 100);\n",
              "      percent.textContent = `${percentDone}% done`;\n",
              "\n",
              "    } while (position < fileData.byteLength);\n",
              "  }\n",
              "\n",
              "  // All done.\n",
              "  yield {\n",
              "    response: {\n",
              "      action: 'complete',\n",
              "    }\n",
              "  };\n",
              "}\n",
              "\n",
              "scope.google = scope.google || {};\n",
              "scope.google.colab = scope.google.colab || {};\n",
              "scope.google.colab._files = {\n",
              "  _uploadFiles,\n",
              "  _uploadFilesContinue,\n",
              "};\n",
              "})(self);\n",
              "</script> "
            ]
          },
          "metadata": {}
        },
        {
          "output_type": "stream",
          "name": "stdout",
          "text": [
            "Saving names.txt to names.txt\n"
          ]
        },
        {
          "output_type": "execute_result",
          "data": {
            "text/plain": [
              "['emma', 'olivia', 'ava', 'isabella', 'sophia']"
            ]
          },
          "metadata": {},
          "execution_count": 3
        }
      ]
    },
    {
      "cell_type": "code",
      "source": [
        "chars=sorted(list(set(''.join(words))))\n",
        "stoi={s:i+1 for i,s in enumerate(chars)}\n",
        "stoi['.']=0\n",
        "itos={i:s for s,i in stoi.items()}\n",
        "print(f'stoi={stoi}')\n",
        "print(f'itos={itos}')"
      ],
      "metadata": {
        "colab": {
          "base_uri": "https://localhost:8080/"
        },
        "id": "dArDQWrsxMpu",
        "outputId": "dc6ccf3b-d4d3-42c9-c3f7-cb622edecc7b"
      },
      "execution_count": 4,
      "outputs": [
        {
          "output_type": "stream",
          "name": "stdout",
          "text": [
            "stoi={'a': 1, 'b': 2, 'c': 3, 'd': 4, 'e': 5, 'f': 6, 'g': 7, 'h': 8, 'i': 9, 'j': 10, 'k': 11, 'l': 12, 'm': 13, 'n': 14, 'o': 15, 'p': 16, 'q': 17, 'r': 18, 's': 19, 't': 20, 'u': 21, 'v': 22, 'w': 23, 'x': 24, 'y': 25, 'z': 26, '.': 0}\n",
            "itos={1: 'a', 2: 'b', 3: 'c', 4: 'd', 5: 'e', 6: 'f', 7: 'g', 8: 'h', 9: 'i', 10: 'j', 11: 'k', 12: 'l', 13: 'm', 14: 'n', 15: 'o', 16: 'p', 17: 'q', 18: 'r', 19: 's', 20: 't', 21: 'u', 22: 'v', 23: 'w', 24: 'x', 25: 'y', 26: 'z', 0: '.'}\n"
          ]
        }
      ]
    },
    {
      "cell_type": "code",
      "source": [
        "# building the dataset to work with out neural network\n",
        "block_size=3 #Number of characters inputted to predict the next character\n",
        "def build_dataset(words):\n",
        "  X,Y =[],[]\n",
        "  for w in words:\n",
        "    # print(w)\n",
        "    context=[0]*block_size\n",
        "    for ch in w+'.':\n",
        "      ix=stoi[ch]\n",
        "      X.append(context)\n",
        "      Y.append(ix)\n",
        "      # print(''.join(itos[i] for i in context), '------>', itos[ix]) Only un comment if working wiht less than 10 words\n",
        "      context=context[1:]+[ix] #crop and append. kind of like a rolling window\n",
        "\n",
        "  X=torch.tensor(X)\n",
        "  Y=torch.tensor(Y)\n",
        "  print(X.shape,Y.shape)\n",
        "  return X,Y\n",
        "\n",
        "import random\n",
        "random.seed(18)\n",
        "random.shuffle(words)\n",
        "n1=int(0.8*len(words))\n",
        "n2=int(0.9*len(words))\n",
        "Xtr,Ytr=build_dataset(words[:n1])\n",
        "Xvl,Yvl=build_dataset(words[n1:n2])\n",
        "Xte,Yte=build_dataset(words[n2:])\n",
        "\n"
      ],
      "metadata": {
        "colab": {
          "base_uri": "https://localhost:8080/"
        },
        "id": "gd5r_wS-yKeA",
        "outputId": "fedee16f-14d0-4fea-d405-0cddea24ced9"
      },
      "execution_count": 35,
      "outputs": [
        {
          "output_type": "stream",
          "name": "stdout",
          "text": [
            "torch.Size([182320, 3]) torch.Size([182320])\n",
            "torch.Size([22953, 3]) torch.Size([22953])\n",
            "torch.Size([22873, 3]) torch.Size([22873])\n"
          ]
        }
      ]
    },
    {
      "cell_type": "code",
      "source": [
        "X.shape, X.dtype, Y.shape, Y.dtype"
      ],
      "metadata": {
        "colab": {
          "base_uri": "https://localhost:8080/"
        },
        "id": "D7cxI7ukzeM2",
        "outputId": "d77fa566-c494-4328-9db1-aaaa33130c0a"
      },
      "execution_count": 6,
      "outputs": [
        {
          "output_type": "execute_result",
          "data": {
            "text/plain": [
              "(torch.Size([228146, 3]), torch.int64, torch.Size([228146]), torch.int64)"
            ]
          },
          "metadata": {},
          "execution_count": 6
        }
      ]
    },
    {
      "cell_type": "code",
      "source": [
        "C=torch.randn((27,2))"
      ],
      "metadata": {
        "id": "NQeACX5y0qFR"
      },
      "execution_count": 7,
      "outputs": []
    },
    {
      "cell_type": "code",
      "source": [
        "emb=C[X]\n",
        "emb.shape"
      ],
      "metadata": {
        "colab": {
          "base_uri": "https://localhost:8080/"
        },
        "id": "5_D94oiN13yr",
        "outputId": "bca97906-71af-4e52-9fbd-636ef7d50a97"
      },
      "execution_count": 8,
      "outputs": [
        {
          "output_type": "execute_result",
          "data": {
            "text/plain": [
              "torch.Size([228146, 3, 2])"
            ]
          },
          "metadata": {},
          "execution_count": 8
        }
      ]
    },
    {
      "cell_type": "code",
      "source": [
        "W1=torch.randn((6,100)) #Since each letter gives a 2 dimentional embedding and we are considering 3 letters, total input to the nn would be 6 values. Also, we randomly decide to use 100 neurons.\n",
        "b1=torch.randn(100) #Biases for the 100 neurons\n",
        "\n",
        "# We basically want to do emb@W1 +b1. But that is not possible. Because, the dimentions of the matrices do nnot match. We will conc. each row of emb to get a 32*6 matrix.\n",
        "# Many ways to do it. But, the fastest one is view.\n"
      ],
      "metadata": {
        "id": "6-HM6iRQ04A4"
      },
      "execution_count": 9,
      "outputs": []
    },
    {
      "cell_type": "code",
      "source": [
        "k=torch.cat([emb[:,0,:],emb[:,1,:],emb[:,2,:]],1)"
      ],
      "metadata": {
        "id": "j50SLO2E3MkG"
      },
      "execution_count": 10,
      "outputs": []
    },
    {
      "cell_type": "code",
      "source": [
        "print(k)"
      ],
      "metadata": {
        "colab": {
          "base_uri": "https://localhost:8080/"
        },
        "id": "3KpcEBE34hcl",
        "outputId": "693bbae5-adf4-4f28-b2fb-8eb90efb9cc9"
      },
      "execution_count": 11,
      "outputs": [
        {
          "output_type": "stream",
          "name": "stdout",
          "text": [
            "tensor([[-0.3455,  0.0943, -0.3455,  0.0943, -0.3455,  0.0943],\n",
            "        [-0.3455,  0.0943, -0.3455,  0.0943, -2.9630,  0.1667],\n",
            "        [-0.3455,  0.0943, -2.9630,  0.1667, -1.0442, -1.0108],\n",
            "        ...,\n",
            "        [ 0.0094, -1.3495,  0.0094, -1.3495,  0.1513, -0.2446],\n",
            "        [ 0.0094, -1.3495,  0.1513, -0.2446,  0.0094, -1.3495],\n",
            "        [ 0.1513, -0.2446,  0.0094, -1.3495, -0.4285,  2.0931]])\n"
          ]
        }
      ]
    },
    {
      "cell_type": "code",
      "source": [
        "# fastest method\n",
        "# Due to the way tensors are stored in the computer memory.\n",
        "emb.view(-1,6)"
      ],
      "metadata": {
        "colab": {
          "base_uri": "https://localhost:8080/"
        },
        "id": "q1iKq-Ab3bT9",
        "outputId": "c24c77a4-5fb0-4fa0-d4a4-0ac23ab7f197"
      },
      "execution_count": 13,
      "outputs": [
        {
          "output_type": "execute_result",
          "data": {
            "text/plain": [
              "tensor([[-0.3455,  0.0943, -0.3455,  0.0943, -0.3455,  0.0943],\n",
              "        [-0.3455,  0.0943, -0.3455,  0.0943, -2.9630,  0.1667],\n",
              "        [-0.3455,  0.0943, -2.9630,  0.1667, -1.0442, -1.0108],\n",
              "        ...,\n",
              "        [ 0.0094, -1.3495,  0.0094, -1.3495,  0.1513, -0.2446],\n",
              "        [ 0.0094, -1.3495,  0.1513, -0.2446,  0.0094, -1.3495],\n",
              "        [ 0.1513, -0.2446,  0.0094, -1.3495, -0.4285,  2.0931]])"
            ]
          },
          "metadata": {},
          "execution_count": 13
        }
      ]
    },
    {
      "cell_type": "code",
      "source": [
        "h=torch.tanh(emb.view(emb.shape[0],6)@W1+b1)\n",
        "h.shape"
      ],
      "metadata": {
        "colab": {
          "base_uri": "https://localhost:8080/"
        },
        "id": "tfdcML1W4ejF",
        "outputId": "072b1422-f315-4022-fefd-742299d18f9d"
      },
      "execution_count": 14,
      "outputs": [
        {
          "output_type": "execute_result",
          "data": {
            "text/plain": [
              "torch.Size([228146, 100])"
            ]
          },
          "metadata": {},
          "execution_count": 14
        }
      ]
    },
    {
      "cell_type": "code",
      "source": [
        "h"
      ],
      "metadata": {
        "colab": {
          "base_uri": "https://localhost:8080/"
        },
        "id": "WpLmisL46h6V",
        "outputId": "1cd7b812-2d85-4c5b-e4ff-f83e17db9218"
      },
      "execution_count": 15,
      "outputs": [
        {
          "output_type": "execute_result",
          "data": {
            "text/plain": [
              "tensor([[ 0.6446, -0.6479,  0.9952,  ...,  0.6510, -0.7697, -0.6619],\n",
              "        [ 0.9845,  0.9709,  0.9999,  ...,  0.8550, -0.9383,  0.9901],\n",
              "        [ 0.9936, -0.9998,  1.0000,  ...,  0.9980,  0.4723, -0.9944],\n",
              "        ...,\n",
              "        [-0.4296, -0.9879,  0.9970,  ...,  0.9990, -0.3820, -0.1109],\n",
              "        [ 0.6368, -0.9538,  0.8010,  ...,  0.9979, -0.5155, -0.4887],\n",
              "        [-0.7345,  0.2726,  1.0000,  ...,  0.9705, -0.6749,  0.1741]])"
            ]
          },
          "metadata": {},
          "execution_count": 15
        }
      ]
    },
    {
      "cell_type": "code",
      "source": [
        "W2=torch.randn(100,27)\n",
        "b2=torch.randn(27)"
      ],
      "metadata": {
        "id": "2NfuCedI69qy"
      },
      "execution_count": 16,
      "outputs": []
    },
    {
      "cell_type": "code",
      "source": [
        "logits=h@W2+b2"
      ],
      "metadata": {
        "id": "LWqr8dry7Nne"
      },
      "execution_count": 17,
      "outputs": []
    },
    {
      "cell_type": "code",
      "source": [
        "logits.shape"
      ],
      "metadata": {
        "colab": {
          "base_uri": "https://localhost:8080/"
        },
        "id": "D_8-eCbe7RYG",
        "outputId": "be4f7af3-148c-4660-f176-ed0cb9d095ad"
      },
      "execution_count": 18,
      "outputs": [
        {
          "output_type": "execute_result",
          "data": {
            "text/plain": [
              "torch.Size([228146, 27])"
            ]
          },
          "metadata": {},
          "execution_count": 18
        }
      ]
    },
    {
      "cell_type": "code",
      "source": [
        "counts=logits.exp()"
      ],
      "metadata": {
        "id": "Cs-8-Wrb7UkW"
      },
      "execution_count": 19,
      "outputs": []
    },
    {
      "cell_type": "code",
      "source": [
        "prob=counts/counts.sum(1,keepdims=True)"
      ],
      "metadata": {
        "id": "dUY_oUXm7Zpw"
      },
      "execution_count": 20,
      "outputs": []
    },
    {
      "cell_type": "code",
      "source": [
        "loss=-prob[torch.arange(228146),Y].log().mean()\n",
        "loss"
      ],
      "metadata": {
        "colab": {
          "base_uri": "https://localhost:8080/"
        },
        "id": "IHq9qcsJ7h2u",
        "outputId": "d44a9050-94ac-4c05-f554-df7ec39472b0"
      },
      "execution_count": 22,
      "outputs": [
        {
          "output_type": "execute_result",
          "data": {
            "text/plain": [
              "tensor(17.0064)"
            ]
          },
          "metadata": {},
          "execution_count": 22
        }
      ]
    },
    {
      "cell_type": "code",
      "source": [
        "# The last 3 steps can be easily calculated using f.cross_entropy() which is an activation function we use for classification.\n",
        "# Efficient because we do not create extra tensors. Also, backward pass is easier.\n",
        "f.cross_entropy(logits,Y)"
      ],
      "metadata": {
        "colab": {
          "base_uri": "https://localhost:8080/"
        },
        "id": "pvfABy_m79Mx",
        "outputId": "e2a099e4-c071-439e-90a8-164f1b1e2953"
      },
      "execution_count": 23,
      "outputs": [
        {
          "output_type": "execute_result",
          "data": {
            "text/plain": [
              "tensor(17.0064)"
            ]
          },
          "metadata": {},
          "execution_count": 23
        }
      ]
    },
    {
      "cell_type": "code",
      "source": [
        "#  So, we put everything together:\n",
        "C=torch.randn(27,2) # This is our intital embedding layer\n",
        "W1=torch.randn(6,100)\n",
        "b1=torch.randn(100)\n",
        "W2=torch.randn(100,27)\n",
        "b2=torch.randn(27)\n",
        "parameters=[C,W1,b1,W2,b2]\n"
      ],
      "metadata": {
        "id": "_BZFLvqC84vB"
      },
      "execution_count": 100,
      "outputs": []
    },
    {
      "cell_type": "code",
      "source": [
        "sum(p.nelement() for p in parameters) "
      ],
      "metadata": {
        "colab": {
          "base_uri": "https://localhost:8080/"
        },
        "id": "1Ws5RIiIDE7b",
        "outputId": "d584c0b5-c33c-4ba9-8867-cfa8cc07f2b7"
      },
      "execution_count": 101,
      "outputs": [
        {
          "output_type": "execute_result",
          "data": {
            "text/plain": [
              "3481"
            ]
          },
          "metadata": {},
          "execution_count": 101
        }
      ]
    },
    {
      "cell_type": "code",
      "source": [
        "for p in parameters:\n",
        "  p.requires_grad=True"
      ],
      "metadata": {
        "id": "5GQPOaKR_rHE"
      },
      "execution_count": 102,
      "outputs": []
    },
    {
      "cell_type": "code",
      "source": [
        "stepi=[]\n",
        "lossi=[]"
      ],
      "metadata": {
        "id": "ZkYf9ZBX_qzj"
      },
      "execution_count": 103,
      "outputs": []
    },
    {
      "cell_type": "code",
      "source": [
        "for i in range(10000):\n",
        "  # forward pass\n",
        "  ix=torch.randint(0,Xtr.shape[0],(32,))\n",
        "  emb=C[Xtr[ix]]\n",
        "  h=torch.tanh(emb.view(-1,6)@W1+b1) #32,100\n",
        "  # print(h.shape)\n",
        "  logits=h@W2+b2 #32,27\n",
        "  loss=f.cross_entropy(logits,Ytr[ix])\n",
        "  lossi.append(loss.log10().item())\n",
        "  stepi.append(i)\n",
        "  # backward pass\n",
        "  for p in parameters:\n",
        "    p.grad=None\n",
        "  loss.backward()\n",
        "  # update\n",
        "  for p in parameters:\n",
        "    p.data+=-0.1*p.grad\n",
        "\n",
        "print('consolidated loss: ')\n",
        "print(loss.item())\n",
        "  "
      ],
      "metadata": {
        "colab": {
          "base_uri": "https://localhost:8080/"
        },
        "id": "s1hhEtGR_t01",
        "outputId": "3f6079b7-486d-4f2a-ca00-2d527d796219"
      },
      "execution_count": 120,
      "outputs": [
        {
          "output_type": "stream",
          "name": "stdout",
          "text": [
            "consolidated loss: \n",
            "3.0037379264831543\n"
          ]
        }
      ]
    },
    {
      "cell_type": "code",
      "source": [
        "len(stepi)"
      ],
      "metadata": {
        "colab": {
          "base_uri": "https://localhost:8080/"
        },
        "id": "CwZiqsHWAY-X",
        "outputId": "e926b7ac-d088-4f3e-956d-31a0ae4a2d9c"
      },
      "execution_count": 121,
      "outputs": [
        {
          "output_type": "execute_result",
          "data": {
            "text/plain": [
              "22965"
            ]
          },
          "metadata": {},
          "execution_count": 121
        }
      ]
    },
    {
      "cell_type": "code",
      "source": [
        "plt.plot(stepi,lossi)"
      ],
      "metadata": {
        "colab": {
          "base_uri": "https://localhost:8080/",
          "height": 282
        },
        "id": "XFQXzJrpC-zf",
        "outputId": "7b55ebb3-51eb-448f-b21d-30334b299156"
      },
      "execution_count": 122,
      "outputs": [
        {
          "output_type": "execute_result",
          "data": {
            "text/plain": [
              "[<matplotlib.lines.Line2D at 0x7f9ab1882a60>]"
            ]
          },
          "metadata": {},
          "execution_count": 122
        },
        {
          "output_type": "display_data",
          "data": {
            "text/plain": [
              "<Figure size 432x288 with 1 Axes>"
            ],
            "image/png": "[encoded data removed]"
          },
          "metadata": {
            "needs_background": "light"
          }
        }
      ]
    },
    {
      "cell_type": "code",
      "source": [
        "emb=C[Xtr]\n",
        "h=torch.tanh(emb.view(-1,6)@W1+b1)\n",
        "logits=h@W2+b2\n",
        "loss=f.cross_entropy(logits,Ytr)\n",
        "loss"
      ],
      "metadata": {
        "colab": {
          "base_uri": "https://localhost:8080/"
        },
        "id": "CkjPwaI2JixK",
        "outputId": "9a3d1751-fbf0-405b-9276-02c9eca93ac1"
      },
      "execution_count": 123,
      "outputs": [
        {
          "output_type": "execute_result",
          "data": {
            "text/plain": [
              "tensor(2.4512, grad_fn=<NllLossBackward0>)"
            ]
          },
          "metadata": {},
          "execution_count": 123
        }
      ]
    },
    {
      "cell_type": "code",
      "source": [
        "emb=C[Xvl]\n",
        "h=torch.tanh(emb.view(-1,6)@W1+b1)\n",
        "logits=h@W2+b2\n",
        "loss=f.cross_entropy(logits,Yvl)\n",
        "loss"
      ],
      "metadata": {
        "colab": {
          "base_uri": "https://localhost:8080/"
        },
        "id": "DCWb3bpvBMCD",
        "outputId": "23cb6503-124b-4464-ea9a-a34b2f14c948"
      },
      "execution_count": 124,
      "outputs": [
        {
          "output_type": "execute_result",
          "data": {
            "text/plain": [
              "tensor(2.4484, grad_fn=<NllLossBackward0>)"
            ]
          },
          "metadata": {},
          "execution_count": 124
        }
      ]
    },
    {
      "cell_type": "code",
      "source": [
        "emb=C[Xte]\n",
        "h=torch.tanh(emb.view(-1,6)@W1+b1)\n",
        "logits=h@W2+b2\n",
        "loss=f.cross_entropy(logits,Yte)\n",
        "loss"
      ],
      "metadata": {
        "colab": {
          "base_uri": "https://localhost:8080/"
        },
        "id": "DsSkveXyBVJb",
        "outputId": "b30528f8-c4b3-49f6-8e97-b172d548eb18"
      },
      "execution_count": 125,
      "outputs": [
        {
          "output_type": "execute_result",
          "data": {
            "text/plain": [
              "tensor(2.4591, grad_fn=<NllLossBackward0>)"
            ]
          },
          "metadata": {},
          "execution_count": 125
        }
      ]
    },
    {
      "cell_type": "code",
      "source": [
        "for i in range(100):\n",
        "  out=[]\n",
        "  context=[0]*block_size\n",
        "  while True:\n",
        "    emb=C[torch.tensor(context)]\n",
        "    h=torch.tanh(emb.view(-1,6)@W1+b1) #32,100\n",
        "    # print(h.shape)\n",
        "    logits=h@W2+b2 #32,27\n",
        "    probs=f.softmax(logits,dim=1)\n",
        "    # print(probs)\n",
        "    ix=torch.multinomial(probs, num_samples=1).item()\n",
        "    context=context[1:]+[ix]\n",
        "    out.append(ix)\n",
        "    if(ix==0):\n",
        "      break\n",
        "\n",
        "  print(''.join(itos[i] for i in out))"
      ],
      "metadata": {
        "colab": {
          "base_uri": "https://localhost:8080/"
        },
        "id": "wUKStHl4Bah0",
        "outputId": "fff2fe25-f936-448c-d872-039c3961ee2e"
      },
      "execution_count": 126,
      "outputs": [
        {
          "output_type": "stream",
          "name": "stdout",
          "text": [
            "teno.\n",
            "evedanne.\n",
            "senn.\n",
            "odiggeam.\n",
            "ividmasavis.\n",
            "akeph.\n",
            "ori.\n",
            "setttolomanoelt.\n",
            "sim.\n",
            "keen.\n",
            "luxiuelyne.\n",
            "esem.\n",
            "wey.\n",
            "mande.\n",
            "kiccanidysnadynn.\n",
            "welia.\n",
            "veka.\n",
            "puvitta.\n",
            "emaamo.\n",
            "bemt.\n",
            "vent.\n",
            "zemorth.\n",
            "zen.\n",
            "avird.\n",
            "ryg.\n",
            "elhiliegh.\n",
            "kim.\n",
            "nuskashanshella.\n",
            "leccomeivlynomi.\n",
            "gehse.\n",
            "ashiclariy.\n",
            "jalteggera.\n",
            "desbb.\n",
            "telarav.\n",
            "sreskarloynax.\n",
            "jecr.\n",
            "anolle.\n",
            "islavcidi.\n",
            "bhiltetorrah.\n",
            "nahdyann.\n",
            "sh.\n",
            "jelbene.\n",
            "avnatyne.\n",
            "arjian.\n",
            "dun.\n",
            "telah.\n",
            "ave.\n",
            "seria.\n",
            "yyon.\n",
            "esexthiem.\n",
            "sva.\n",
            "keyanne.\n",
            "mamia.\n",
            "yvijii.\n",
            "dekian.\n",
            "hera.\n",
            "eldaztcttill.\n",
            "gumnah.\n",
            "mei.\n",
            "bylen.\n",
            "jakse.\n",
            "roasax.\n",
            "daf.\n",
            "wakpanrist.\n",
            "meila.\n",
            "sexin.\n",
            "seltanye.\n",
            "vuy.\n",
            "sela.\n",
            "atmynm.\n",
            "suy.\n",
            "senin.\n",
            "sresh.\n",
            "ben.\n",
            "cictebc.\n",
            "enotliah.\n",
            "vest.\n",
            "tilaydahtyvilehgesene.\n",
            "len.\n",
            "bedmi.\n",
            "eeh.\n",
            "meek.\n",
            "twariser.\n",
            "pah.\n",
            "juman.\n",
            "eykiviam.\n",
            "gulhan.\n",
            "eydon.\n",
            "dena.\n",
            "masast.\n",
            "ryn.\n",
            "prie.\n",
            "elelanary.\n",
            "enm.\n",
            "emic.\n",
            "keroe.\n",
            "lunca.\n",
            "eva.\n",
            "mastodannesta.\n",
            "eum.\n"
          ]
        }
      ]
    },
    {
      "cell_type": "code",
      "source": [],
      "metadata": {
        "id": "lQ9twRmNEFKd"
      },
      "execution_count": null,
      "outputs": []
    }
  ]
}